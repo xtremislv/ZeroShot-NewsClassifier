{
  "nbformat": 4,
  "nbformat_minor": 0,
  "metadata": {
    "colab": {
      "provenance": []
    },
    "kernelspec": {
      "name": "python3",
      "display_name": "Python 3"
    },
    "language_info": {
      "name": "python"
    }
  },
  "cells": [
    {
      "cell_type": "code",
      "execution_count": null,
      "metadata": {
        "id": "FJORgP9o0bPU"
      },
      "outputs": [],
      "source": [
        "import pandas as pd\n",
        "import numpy as np\n",
        "from tqdm import tqdm\n",
        "from sklearn.metrics.pairwise import cosine_similarity\n",
        "import torch\n",
        "from transformers import AutoTokenizer, AutoModel\n",
        "\n",
        "device = torch.device(\"cuda\" if torch.cuda.is_available() else \"cpu\")\n",
        "\n",
        "\n",
        "df = pd.read_csv(\"/kaggle/input/ag-news-classification-dataset/train.csv\", header=None, names=[\"ClassId\", \"Title\", \"Description\"])\n",
        "df = df.iloc[1:].reset_index(drop=True)\n",
        "df[\"ClassId\"] = df[\"ClassId\"].astype(int)\n",
        "df[\"Text\"] = df[\"Title\"] + \" \" + df[\"Description\"]\n",
        "\n",
        "\n",
        "def get_cls_embedding(texts, tokenizer, model, device):\n",
        "    embeddings = []\n",
        "    for text in texts:\n",
        "        inputs = tokenizer(text, return_tensors=\"pt\", truncation=True, padding=True, max_length=512).to(device)\n",
        "        with torch.no_grad():\n",
        "            outputs = model(**inputs)\n",
        "        cls_embed = outputs.last_hidden_state[:, 0, :].squeeze().cpu().numpy()\n",
        "        embeddings.append(cls_embed)\n",
        "    return np.array(embeddings)\n",
        "\n",
        "\n",
        "def classify(texts, label_texts, model_name, device):\n",
        "    print(f\"\\nUsing model: {model_name}\")\n",
        "    tokenizer = AutoTokenizer.from_pretrained(model_name)\n",
        "    model = AutoModel.from_pretrained(model_name).to(device)\n",
        "    model.eval()\n",
        "\n",
        "    label_embeddings = get_cls_embedding(list(label_texts.values()), tokenizer, model, device)\n",
        "    text_embeddings = get_cls_embedding(texts, tokenizer, model, device)\n",
        "\n",
        "    predictions = []\n",
        "    for text_emb in tqdm(text_embeddings, desc=\"Classifying\"):\n",
        "        sims = cosine_similarity([text_emb], label_embeddings)[0]\n",
        "        predicted_label = np.argmax(sims) + 1\n",
        "        predictions.append(predicted_label)\n",
        "\n",
        "    return predictions\n",
        "\n",
        "subset_size = 5000\n",
        "texts = df[\"Text\"].tolist()[:subset_size]\n",
        "true_labels = df[\"ClassId\"].tolist()[:subset_size]\n",
        "\n",
        "pred_base = classify(texts, label_texts, \"bert-base-uncased\", device)\n",
        "pred_simcse = classify(texts, label_texts, \"princeton-nlp/sup-simcse-bert-base-uncased\", device)\n",
        "\n",
        "\n",
        "acc_base = np.mean(np.array(pred_base) == np.array(true_labels))\n",
        "acc_simcse = np.mean(np.array(pred_simcse) == np.array(true_labels))\n",
        "\n",
        "print(f\"\\nBaseline BERT Accuracy: {acc_base:.4f}\")\n",
        "print(f\"SimCSE Accuracy:         {acc_simcse:.4f}\")"
      ]
    }
  ]
}